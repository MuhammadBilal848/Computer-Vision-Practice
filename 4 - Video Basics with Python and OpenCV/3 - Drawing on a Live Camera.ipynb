{
 "cells": [
  {
   "cell_type": "code",
   "execution_count": 1,
   "metadata": {},
   "outputs": [],
   "source": [
    "import cv2 as cv"
   ]
  },
  {
   "cell_type": "markdown",
   "metadata": {},
   "source": [
    "# Draw a rectangle on specific coordinates"
   ]
  },
  {
   "cell_type": "code",
   "execution_count": 4,
   "metadata": {},
   "outputs": [],
   "source": [
    "cap = cv.VideoCapture(0)\n",
    "\n",
    "width = int(cap.get(cv.CAP_PROP_FRAME_WIDTH))\n",
    "height = int(cap.get(cv.CAP_PROP_FRAME_HEIGHT))\n",
    "\n",
    "# top left corner of rectangle\n",
    "x = width//2\n",
    "y = height//2\n",
    "\n",
    "# width & height of RECTANGLE\n",
    "w = width//4\n",
    "h = height//4\n",
    "\n",
    "# bottom right (x+w,y+h)\n",
    "\n",
    "while True:\n",
    "    ret,frame = cap.read()\n",
    "    \n",
    "    cv.rectangle(frame,(x,y),(x+w,y+h),color = (255,255,255),thickness =5)\n",
    "    cv.imshow('Draw on this video',frame)\n",
    "    \n",
    "    if cv.waitKey(1) & 0xff == ord('q'):\n",
    "        break\n",
    "        \n",
    "cap.release()\n",
    "cv.destroyAllWindows()"
   ]
  },
  {
   "cell_type": "markdown",
   "metadata": {},
   "source": [
    "# Drawing a rectangle anywhere"
   ]
  },
  {
   "cell_type": "code",
   "execution_count": 8,
   "metadata": {},
   "outputs": [],
   "source": [
    "# CallBack Function For Rectangle\n",
    "def draw_rect(event,x,y,flags,param):\n",
    "    \n",
    "    global p1,p2,topleft_clicked,bottomright_clicked\n",
    "    \n",
    "    if event == cv.EVENT_LBUTTONDOWN:\n",
    "        \n",
    "        # this checks that rectangle has been drawn(means both actions topleft_clicked & bottomright_clicked\n",
    "        # are true when the triangle is made) and resets the param\n",
    "        if (topleft_clicked == True) and (bottomright_clicked == True):\n",
    "            p1 = (0,0)\n",
    "            p2 = (0,0)\n",
    "            topleft_clicked = False\n",
    "            bottomright_clicked = False\n",
    "        \n",
    "        # this adds small circle on the screen when the while loop initiates\n",
    "        if topleft_clicked == False:\n",
    "            p1 = (x,y)\n",
    "            topleft_clicked = True\n",
    "        \n",
    "        # this streches rectangle on the screen when the while loop initiates\n",
    "        elif bottomright_clicked == False:\n",
    "            p2 = (x,y)\n",
    "            bottomright_clicked = True\n",
    "        \n",
    "    \n",
    "    \n",
    "    \n",
    "# Global Variables\n",
    "p1 = (0,0)\n",
    "p2 = (0,0)\n",
    "topleft_clicked = False\n",
    "bottomright_clicked = False\n",
    "\n",
    "# Connect to callback\n",
    "cap = cv.VideoCapture(0)\n",
    "cv.namedWindow('Test')\n",
    "cv.setMouseCallback('Test',draw_rect)\n",
    "\n",
    "while True:\n",
    "    ret,frame = cap.read()\n",
    "\n",
    "    # drawing on the frame\n",
    "    if topleft_clicked:\n",
    "        cv.circle(frame,p1,5,(255,0,0),-1)\n",
    "\n",
    "    if topleft_clicked and bottomright_clicked:\n",
    "        cv.rectangle(frame,p1,p2,(0,255,0),3)\n",
    "            \n",
    "    cv.imshow('Test',frame)\n",
    "    \n",
    "    if cv.waitKey(1) & 0xff == ord('q'):\n",
    "        break\n",
    "        \n",
    "cap.release()\n",
    "cv.destroyAllWindows()"
   ]
  }
 ],
 "metadata": {
  "kernelspec": {
   "display_name": "Python 3",
   "language": "python",
   "name": "python3"
  },
  "language_info": {
   "codemirror_mode": {
    "name": "ipython",
    "version": 3
   },
   "file_extension": ".py",
   "mimetype": "text/x-python",
   "name": "python",
   "nbconvert_exporter": "python",
   "pygments_lexer": "ipython3",
   "version": "3.8.5"
  }
 },
 "nbformat": 4,
 "nbformat_minor": 4
}
