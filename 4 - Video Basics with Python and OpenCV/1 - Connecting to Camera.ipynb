{
 "cells": [
  {
   "cell_type": "code",
   "execution_count": 1,
   "metadata": {},
   "outputs": [],
   "source": [
    "import cv2 as cv"
   ]
  },
  {
   "cell_type": "markdown",
   "metadata": {},
   "source": [
    "$$CV2.VideoCapture()$$ \n",
    "* cv2.VideoCapture is used to capture video by passing one parameter **0** that selects default camera."
   ]
  },
  {
   "cell_type": "code",
   "execution_count": 6,
   "metadata": {},
   "outputs": [
    {
     "name": "stdout",
     "output_type": "stream",
     "text": [
      "640 480 -1.0\n"
     ]
    }
   ],
   "source": [
    "cap = cv.VideoCapture(0)\n",
    "\n",
    "# we often need to manipulate the width and height of the video\n",
    "# the get function returns float value as 1080.0 but we need int.\n",
    "\n",
    "width = int(cap.get(cv.CAP_PROP_FRAME_WIDTH))\n",
    "height = int(cap.get(cv.CAP_PROP_FRAME_HEIGHT))\n",
    "\n",
    "print(width,height,frame_per_sec)\n",
    "# if you want to save the video you can use cv2.VideoWriter()\n",
    "# Syntax - cv2.VideoWriter(video_name,cv.VideoWriter_fourcc(*'DIVX'),frames_per_sec,(width,height))\n",
    "# - 'DIVX' for windows\n",
    "# - 'XVID' for mac & linux\n",
    "# frames_per_sec the tip is to keep between 20 and 30.\n",
    "\n",
    "\n",
    "\n",
    "writer = cv.VideoWriter('vidforopencv.mp4',cv.VideoWriter_fourcc(*'DIVX'),20,(width,height))\n",
    "\n",
    "while True:\n",
    "    # frame is nothing but series of images & video is constantly updating the frame, cap.read() \n",
    "    # read those frames \n",
    "    ret,frame = cap.read()\n",
    "\n",
    "    # for writing the frame\n",
    "    writer.write(frame)\n",
    "    \n",
    "    # if you want to convert into grayscale then use cvtcolor\n",
    "    gray = cv.cvtColor(frame,cv.COLOR_BGR2GRAY)\n",
    "    cv.imshow('Cam',gray)\n",
    "\n",
    "    # to break the loop on the escape key\n",
    "    if cv.waitKey(1) & 0xFF == ord('q'):\n",
    "        break\n",
    "\n",
    "# to end the video stream\n",
    "cap.release()\n",
    "\n",
    "# to end the writing function\n",
    "writer.release()\n",
    "\n",
    "cv.destroyAllWindows()        "
   ]
  },
  {
   "cell_type": "code",
   "execution_count": null,
   "metadata": {},
   "outputs": [],
   "source": []
  }
 ],
 "metadata": {
  "kernelspec": {
   "display_name": "Python 3",
   "language": "python",
   "name": "python3"
  },
  "language_info": {
   "codemirror_mode": {
    "name": "ipython",
    "version": 3
   },
   "file_extension": ".py",
   "mimetype": "text/x-python",
   "name": "python",
   "nbconvert_exporter": "python",
   "pygments_lexer": "ipython3",
   "version": "3.8.5"
  }
 },
 "nbformat": 4,
 "nbformat_minor": 4
}
