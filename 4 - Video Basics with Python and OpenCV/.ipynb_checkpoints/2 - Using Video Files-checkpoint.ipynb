{
 "cells": [
  {
   "cell_type": "code",
   "execution_count": 9,
   "metadata": {},
   "outputs": [],
   "source": [
    "import cv2 as cv\n",
    "import time"
   ]
  },
  {
   "cell_type": "code",
   "execution_count": 14,
   "metadata": {},
   "outputs": [],
   "source": [
    "cap = cv.VideoCapture('Computer-Vision/Data/video_capture.mp4')\n",
    "\n",
    "# this checks the file available is in correct codec\n",
    "if cap.isOpened() == False:\n",
    "    print('ERROR FILE NOT FOUND OR WRONG CODEC IS USED!!!!!')\n",
    "    \n",
    "while cap.isOpened():\n",
    "    \n",
    "    ret,frame = cap.read()\n",
    "    \n",
    "    # this checks if video is returning smth then keep showing the video until user presses 'q'\n",
    "    if ret == True:\n",
    "        \n",
    "        # normmaly the video runs fast as the computer sees a video & process data faster than a \n",
    "        # human mind so if you want to slow down the video you need to use time module\n",
    "        time.sleep(1/20) # 20 are the number of frames we defined in the video while writing\n",
    "        # you can play around with the number  \n",
    "        cv.imshow('Video',frame)\n",
    "        \n",
    "        if cv.waitKey(5) & 0xFF == ord('q'):\n",
    "            break\n",
    "            \n",
    "    # this breaks when the frames have already been shown\n",
    "    else:\n",
    "        break\n",
    "        \n",
    "cap.release()\n",
    "cv.destroyAllWindows()"
   ]
  }
 ],
 "metadata": {
  "kernelspec": {
   "display_name": "Python 3",
   "language": "python",
   "name": "python3"
  },
  "language_info": {
   "codemirror_mode": {
    "name": "ipython",
    "version": 3
   },
   "file_extension": ".py",
   "mimetype": "text/x-python",
   "name": "python",
   "nbconvert_exporter": "python",
   "pygments_lexer": "ipython3",
   "version": "3.8.5"
  }
 },
 "nbformat": 4,
 "nbformat_minor": 4
}
