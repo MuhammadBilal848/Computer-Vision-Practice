{
 "cells": [
  {
   "cell_type": "code",
   "execution_count": 9,
   "metadata": {},
   "outputs": [],
   "source": [
    "import numpy as np\n",
    "import matplotlib.pyplot as plt\n",
    "import cv2 as cv"
   ]
  },
  {
   "cell_type": "code",
   "execution_count": 7,
   "metadata": {},
   "outputs": [],
   "source": [
    "def sketch(img):\n",
    "    gimg = cv.cvtColor(img,cv.COLOR_BGR2GRAY)\n",
    "    \n",
    "    cannyf = cv.Canny(gimg,50,200)\n",
    "    \n",
    "    ret,thr = cv.threshold(cannyf,100,200,cv.THRESH_BINARY_INV)\n",
    "    \n",
    "    return thr"
   ]
  },
  {
   "cell_type": "code",
   "execution_count": 13,
   "metadata": {},
   "outputs": [],
   "source": [
    "cap = cv.VideoCapture(0)\n",
    "\n",
    "while True:\n",
    "    ret,frame = cap.read()\n",
    "\n",
    "    gframe = cv.cvtColor(frame,cv.COLOR_BGR2GRAY)\n",
    "    cframe = cv.Canny(gframe,50,255)\n",
    "    ret,final = cv.threshold(cframe,127,255,cv.THRESH_BINARY_INV)\n",
    "    cv.imshow('Sketchyyyy!!!',final)\n",
    "    \n",
    "    if cv.waitKey(1) & 0xff == ord('q'):\n",
    "        break\n",
    "        \n",
    "cap.release()\n",
    "cv.destroyAllWindows()"
   ]
  }
 ],
 "metadata": {
  "kernelspec": {
   "display_name": "Python 3",
   "language": "python",
   "name": "python3"
  },
  "language_info": {
   "codemirror_mode": {
    "name": "ipython",
    "version": 3
   },
   "file_extension": ".py",
   "mimetype": "text/x-python",
   "name": "python",
   "nbconvert_exporter": "python",
   "pygments_lexer": "ipython3",
   "version": "3.8.5"
  }
 },
 "nbformat": 4,
 "nbformat_minor": 4
}
